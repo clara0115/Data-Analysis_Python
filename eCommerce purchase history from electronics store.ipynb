{
 "cells": [
  {
   "cell_type": "markdown",
   "id": "92182115",
   "metadata": {},
   "source": [
    "### This project aims to analyse product sales and customers' purchasing behaviour from April 2020 to November 2020 from a large home appliances and electronics online store.\n",
    "#### Dataset: https://www.kaggle.com/datasets/mkechinov/ecommerce-purchase-history-from-electronics-store?datasetId=974374&sortBy=voteCount"
   ]
  },
  {
   "cell_type": "code",
   "execution_count": 4,
   "id": "6e1c98f3",
   "metadata": {},
   "outputs": [],
   "source": [
    "import pandas as pd\n",
    "import numpy as np\n",
    "import matplotlib.pyplot as plt\n",
    "import seaborn as sns"
   ]
  },
  {
   "cell_type": "code",
   "execution_count": 5,
   "id": "bd1cb0fe",
   "metadata": {},
   "outputs": [],
   "source": [
    "df = pd.read_csv('/Users/yuemun/Desktop/Python/eCommerce_purchase_history.csv')"
   ]
  },
  {
   "cell_type": "code",
   "execution_count": 21,
   "id": "98361332",
   "metadata": {},
   "outputs": [
    {
     "data": {
      "text/html": [
       "<div>\n",
       "<style scoped>\n",
       "    .dataframe tbody tr th:only-of-type {\n",
       "        vertical-align: middle;\n",
       "    }\n",
       "\n",
       "    .dataframe tbody tr th {\n",
       "        vertical-align: top;\n",
       "    }\n",
       "\n",
       "    .dataframe thead th {\n",
       "        text-align: right;\n",
       "    }\n",
       "</style>\n",
       "<table border=\"1\" class=\"dataframe\">\n",
       "  <thead>\n",
       "    <tr style=\"text-align: right;\">\n",
       "      <th></th>\n",
       "      <th>event_time</th>\n",
       "      <th>order_id</th>\n",
       "      <th>product_id</th>\n",
       "      <th>category_id</th>\n",
       "      <th>category_code</th>\n",
       "      <th>brand</th>\n",
       "      <th>price</th>\n",
       "      <th>user_id</th>\n",
       "      <th>month</th>\n",
       "    </tr>\n",
       "  </thead>\n",
       "  <tbody>\n",
       "    <tr>\n",
       "      <th>0</th>\n",
       "      <td>2020-04-24 11:50:39+00:00</td>\n",
       "      <td>2294359932054536986</td>\n",
       "      <td>1515966223509089906</td>\n",
       "      <td>2.268105e+18</td>\n",
       "      <td>electronics.tablet</td>\n",
       "      <td>samsung</td>\n",
       "      <td>162.01</td>\n",
       "      <td>1.515916e+18</td>\n",
       "      <td>2020-04-01</td>\n",
       "    </tr>\n",
       "    <tr>\n",
       "      <th>2</th>\n",
       "      <td>2020-04-24 14:37:43+00:00</td>\n",
       "      <td>2294444024058086220</td>\n",
       "      <td>2273948319057183658</td>\n",
       "      <td>2.268105e+18</td>\n",
       "      <td>electronics.audio.headphone</td>\n",
       "      <td>huawei</td>\n",
       "      <td>77.52</td>\n",
       "      <td>1.515916e+18</td>\n",
       "      <td>2020-04-01</td>\n",
       "    </tr>\n",
       "    <tr>\n",
       "      <th>5</th>\n",
       "      <td>2020-04-26 08:45:57+00:00</td>\n",
       "      <td>2295716521449619559</td>\n",
       "      <td>1515966223509261697</td>\n",
       "      <td>2.268105e+18</td>\n",
       "      <td>furniture.kitchen.table</td>\n",
       "      <td>maestro</td>\n",
       "      <td>39.33</td>\n",
       "      <td>1.515916e+18</td>\n",
       "      <td>2020-04-01</td>\n",
       "    </tr>\n",
       "    <tr>\n",
       "      <th>6</th>\n",
       "      <td>2020-04-26 09:33:47+00:00</td>\n",
       "      <td>2295740594749702229</td>\n",
       "      <td>1515966223509104892</td>\n",
       "      <td>2.268105e+18</td>\n",
       "      <td>electronics.smartphone</td>\n",
       "      <td>apple</td>\n",
       "      <td>1387.01</td>\n",
       "      <td>1.515916e+18</td>\n",
       "      <td>2020-04-01</td>\n",
       "    </tr>\n",
       "    <tr>\n",
       "      <th>10</th>\n",
       "      <td>2020-04-26 14:55:26+00:00</td>\n",
       "      <td>2295902490203259134</td>\n",
       "      <td>2273948311742316796</td>\n",
       "      <td>2.268105e+18</td>\n",
       "      <td>appliances.kitchen.refrigerators</td>\n",
       "      <td>lg</td>\n",
       "      <td>462.94</td>\n",
       "      <td>1.515916e+18</td>\n",
       "      <td>2020-04-01</td>\n",
       "    </tr>\n",
       "  </tbody>\n",
       "</table>\n",
       "</div>"
      ],
      "text/plain": [
       "                  event_time             order_id           product_id  \\\n",
       "0  2020-04-24 11:50:39+00:00  2294359932054536986  1515966223509089906   \n",
       "2  2020-04-24 14:37:43+00:00  2294444024058086220  2273948319057183658   \n",
       "5  2020-04-26 08:45:57+00:00  2295716521449619559  1515966223509261697   \n",
       "6  2020-04-26 09:33:47+00:00  2295740594749702229  1515966223509104892   \n",
       "10 2020-04-26 14:55:26+00:00  2295902490203259134  2273948311742316796   \n",
       "\n",
       "     category_id                     category_code    brand    price  \\\n",
       "0   2.268105e+18                electronics.tablet  samsung   162.01   \n",
       "2   2.268105e+18       electronics.audio.headphone   huawei    77.52   \n",
       "5   2.268105e+18           furniture.kitchen.table  maestro    39.33   \n",
       "6   2.268105e+18            electronics.smartphone    apple  1387.01   \n",
       "10  2.268105e+18  appliances.kitchen.refrigerators       lg   462.94   \n",
       "\n",
       "         user_id      month  \n",
       "0   1.515916e+18 2020-04-01  \n",
       "2   1.515916e+18 2020-04-01  \n",
       "5   1.515916e+18 2020-04-01  \n",
       "6   1.515916e+18 2020-04-01  \n",
       "10  1.515916e+18 2020-04-01  "
      ]
     },
     "execution_count": 21,
     "metadata": {},
     "output_type": "execute_result"
    }
   ],
   "source": [
    "df.head()"
   ]
  },
  {
   "cell_type": "code",
   "execution_count": 23,
   "id": "808b615f",
   "metadata": {},
   "outputs": [
    {
     "name": "stdout",
     "output_type": "stream",
     "text": [
      "<class 'pandas.core.frame.DataFrame'>\n",
      "Int64Index: 2020793 entries, 0 to 2633520\n",
      "Data columns (total 9 columns):\n",
      " #   Column         Dtype              \n",
      "---  ------         -----              \n",
      " 0   event_time     datetime64[ns, UTC]\n",
      " 1   order_id       int64              \n",
      " 2   product_id     int64              \n",
      " 3   category_id    float64            \n",
      " 4   category_code  object             \n",
      " 5   brand          object             \n",
      " 6   price          float64            \n",
      " 7   user_id        float64            \n",
      " 8   month          datetime64[ns]     \n",
      "dtypes: datetime64[ns, UTC](1), datetime64[ns](1), float64(3), int64(2), object(2)\n",
      "memory usage: 154.2+ MB\n"
     ]
    }
   ],
   "source": [
    "df.info()"
   ]
  },
  {
   "cell_type": "code",
   "execution_count": 25,
   "id": "226384c8",
   "metadata": {},
   "outputs": [
    {
     "data": {
      "text/html": [
       "<div>\n",
       "<style scoped>\n",
       "    .dataframe tbody tr th:only-of-type {\n",
       "        vertical-align: middle;\n",
       "    }\n",
       "\n",
       "    .dataframe tbody tr th {\n",
       "        vertical-align: top;\n",
       "    }\n",
       "\n",
       "    .dataframe thead th {\n",
       "        text-align: right;\n",
       "    }\n",
       "</style>\n",
       "<table border=\"1\" class=\"dataframe\">\n",
       "  <thead>\n",
       "    <tr style=\"text-align: right;\">\n",
       "      <th></th>\n",
       "      <th>category_code</th>\n",
       "      <th>brand</th>\n",
       "    </tr>\n",
       "  </thead>\n",
       "  <tbody>\n",
       "    <tr>\n",
       "      <th>count</th>\n",
       "      <td>2020793</td>\n",
       "      <td>1570293</td>\n",
       "    </tr>\n",
       "    <tr>\n",
       "      <th>unique</th>\n",
       "      <td>510</td>\n",
       "      <td>22702</td>\n",
       "    </tr>\n",
       "    <tr>\n",
       "      <th>top</th>\n",
       "      <td>electronics.smartphone</td>\n",
       "      <td>samsung</td>\n",
       "    </tr>\n",
       "    <tr>\n",
       "      <th>freq</th>\n",
       "      <td>357581</td>\n",
       "      <td>328701</td>\n",
       "    </tr>\n",
       "  </tbody>\n",
       "</table>\n",
       "</div>"
      ],
      "text/plain": [
       "                 category_code    brand\n",
       "count                  2020793  1570293\n",
       "unique                     510    22702\n",
       "top     electronics.smartphone  samsung\n",
       "freq                    357581   328701"
      ]
     },
     "execution_count": 25,
     "metadata": {},
     "output_type": "execute_result"
    }
   ],
   "source": [
    "df.describe(include=['O']) #count only those are objects"
   ]
  },
  {
   "cell_type": "code",
   "execution_count": 6,
   "id": "915b69b7",
   "metadata": {},
   "outputs": [],
   "source": [
    "#we can see that the top selling product is smartphone and Samsung is the best seller."
   ]
  },
  {
   "cell_type": "markdown",
   "id": "d324b091",
   "metadata": {},
   "source": [
    "#### Data Cleaning"
   ]
  },
  {
   "cell_type": "code",
   "execution_count": 9,
   "id": "deb5109c",
   "metadata": {},
   "outputs": [
    {
     "data": {
      "text/plain": [
       "0          False\n",
       "1           True\n",
       "2          False\n",
       "3           True\n",
       "4          False\n",
       "           ...  \n",
       "2633516    False\n",
       "2633517    False\n",
       "2633518    False\n",
       "2633519    False\n",
       "2633520    False\n",
       "Length: 2633521, dtype: bool"
      ]
     },
     "execution_count": 9,
     "metadata": {},
     "output_type": "execute_result"
    }
   ],
   "source": [
    "#check if we have duplicate values\n",
    "df.duplicated()"
   ]
  },
  {
   "cell_type": "code",
   "execution_count": 10,
   "id": "d442208b",
   "metadata": {},
   "outputs": [],
   "source": [
    "#drop the duplicate values\n",
    "df = df.drop_duplicates()"
   ]
  },
  {
   "cell_type": "code",
   "execution_count": 11,
   "id": "8308cadb",
   "metadata": {},
   "outputs": [
    {
     "data": {
      "text/plain": [
       "event_time             0\n",
       "order_id               0\n",
       "product_id             0\n",
       "category_id       431953\n",
       "category_code     612053\n",
       "brand             505965\n",
       "price             431953\n",
       "user_id          2069351\n",
       "dtype: int64"
      ]
     },
     "execution_count": 11,
     "metadata": {},
     "output_type": "execute_result"
    }
   ],
   "source": [
    "#check if we have missing values\n",
    "df.isnull().sum()"
   ]
  },
  {
   "cell_type": "code",
   "execution_count": 3,
   "id": "11d202de",
   "metadata": {},
   "outputs": [],
   "source": [
    "#drop rows with missing category_code\n",
    "df.dropna(subset=['category_code'],inplace=True) "
   ]
  },
  {
   "cell_type": "code",
   "execution_count": 13,
   "id": "04eda036",
   "metadata": {},
   "outputs": [
    {
     "data": {
      "text/plain": [
       "event_time             0\n",
       "order_id               0\n",
       "product_id             0\n",
       "category_id       431953\n",
       "category_code          0\n",
       "brand             450500\n",
       "price             431953\n",
       "user_id          1586519\n",
       "dtype: int64"
      ]
     },
     "execution_count": 13,
     "metadata": {},
     "output_type": "execute_result"
    }
   ],
   "source": [
    "df.isnull().sum()"
   ]
  },
  {
   "cell_type": "code",
   "execution_count": 170,
   "id": "71dc1bf6",
   "metadata": {},
   "outputs": [],
   "source": [
    "#create a new column - category from the category code\n",
    "df['category'] = df['category_code'].str.split('.',n=1,expand = True)[1]\n",
    "df.drop(columns=['category_code'],inplace = True)"
   ]
  },
  {
   "cell_type": "code",
   "execution_count": 14,
   "id": "25b4f701",
   "metadata": {},
   "outputs": [
    {
     "data": {
      "text/html": [
       "<div>\n",
       "<style scoped>\n",
       "    .dataframe tbody tr th:only-of-type {\n",
       "        vertical-align: middle;\n",
       "    }\n",
       "\n",
       "    .dataframe tbody tr th {\n",
       "        vertical-align: top;\n",
       "    }\n",
       "\n",
       "    .dataframe thead th {\n",
       "        text-align: right;\n",
       "    }\n",
       "</style>\n",
       "<table border=\"1\" class=\"dataframe\">\n",
       "  <thead>\n",
       "    <tr style=\"text-align: right;\">\n",
       "      <th></th>\n",
       "      <th>event_time</th>\n",
       "      <th>order_id</th>\n",
       "      <th>product_id</th>\n",
       "      <th>category_id</th>\n",
       "      <th>category_code</th>\n",
       "      <th>brand</th>\n",
       "      <th>price</th>\n",
       "      <th>user_id</th>\n",
       "    </tr>\n",
       "  </thead>\n",
       "  <tbody>\n",
       "    <tr>\n",
       "      <th>0</th>\n",
       "      <td>2020-04-24 11:50:39 UTC</td>\n",
       "      <td>2294359932054536986</td>\n",
       "      <td>1515966223509089906</td>\n",
       "      <td>2.268105e+18</td>\n",
       "      <td>electronics.tablet</td>\n",
       "      <td>samsung</td>\n",
       "      <td>162.01</td>\n",
       "      <td>1.515916e+18</td>\n",
       "    </tr>\n",
       "    <tr>\n",
       "      <th>2</th>\n",
       "      <td>2020-04-24 14:37:43 UTC</td>\n",
       "      <td>2294444024058086220</td>\n",
       "      <td>2273948319057183658</td>\n",
       "      <td>2.268105e+18</td>\n",
       "      <td>electronics.audio.headphone</td>\n",
       "      <td>huawei</td>\n",
       "      <td>77.52</td>\n",
       "      <td>1.515916e+18</td>\n",
       "    </tr>\n",
       "    <tr>\n",
       "      <th>5</th>\n",
       "      <td>2020-04-26 08:45:57 UTC</td>\n",
       "      <td>2295716521449619559</td>\n",
       "      <td>1515966223509261697</td>\n",
       "      <td>2.268105e+18</td>\n",
       "      <td>furniture.kitchen.table</td>\n",
       "      <td>maestro</td>\n",
       "      <td>39.33</td>\n",
       "      <td>1.515916e+18</td>\n",
       "    </tr>\n",
       "    <tr>\n",
       "      <th>6</th>\n",
       "      <td>2020-04-26 09:33:47 UTC</td>\n",
       "      <td>2295740594749702229</td>\n",
       "      <td>1515966223509104892</td>\n",
       "      <td>2.268105e+18</td>\n",
       "      <td>electronics.smartphone</td>\n",
       "      <td>apple</td>\n",
       "      <td>1387.01</td>\n",
       "      <td>1.515916e+18</td>\n",
       "    </tr>\n",
       "    <tr>\n",
       "      <th>10</th>\n",
       "      <td>2020-04-26 14:55:26 UTC</td>\n",
       "      <td>2295902490203259134</td>\n",
       "      <td>2273948311742316796</td>\n",
       "      <td>2.268105e+18</td>\n",
       "      <td>appliances.kitchen.refrigerators</td>\n",
       "      <td>lg</td>\n",
       "      <td>462.94</td>\n",
       "      <td>1.515916e+18</td>\n",
       "    </tr>\n",
       "    <tr>\n",
       "      <th>...</th>\n",
       "      <td>...</td>\n",
       "      <td>...</td>\n",
       "      <td>...</td>\n",
       "      <td>...</td>\n",
       "      <td>...</td>\n",
       "      <td>...</td>\n",
       "      <td>...</td>\n",
       "      <td>...</td>\n",
       "    </tr>\n",
       "    <tr>\n",
       "      <th>2633515</th>\n",
       "      <td>2020-11-21 10:08:54 UTC</td>\n",
       "      <td>2388440981134693941</td>\n",
       "      <td>1515966223509088622</td>\n",
       "      <td>2.374499e+18</td>\n",
       "      <td>electronics.video.tv</td>\n",
       "      <td>lg</td>\n",
       "      <td>370.35</td>\n",
       "      <td>1.515916e+18</td>\n",
       "    </tr>\n",
       "    <tr>\n",
       "      <th>2633516</th>\n",
       "      <td>2020-11-21 10:10:01 UTC</td>\n",
       "      <td>2388440981134693942</td>\n",
       "      <td>1515966223526602848</td>\n",
       "      <td>2.268105e+18</td>\n",
       "      <td>electronics.smartphone</td>\n",
       "      <td>oppo</td>\n",
       "      <td>138.87</td>\n",
       "      <td>1.515916e+18</td>\n",
       "    </tr>\n",
       "    <tr>\n",
       "      <th>2633517</th>\n",
       "      <td>2020-11-21 10:10:13 UTC</td>\n",
       "      <td>2388440981134693943</td>\n",
       "      <td>1515966223509089282</td>\n",
       "      <td>2.268105e+18</td>\n",
       "      <td>electronics.smartphone</td>\n",
       "      <td>apple</td>\n",
       "      <td>418.96</td>\n",
       "      <td>1.515916e+18</td>\n",
       "    </tr>\n",
       "    <tr>\n",
       "      <th>2633518</th>\n",
       "      <td>2020-11-21 10:10:30 UTC</td>\n",
       "      <td>2388440981134693944</td>\n",
       "      <td>1515966223509089917</td>\n",
       "      <td>2.268105e+18</td>\n",
       "      <td>appliances.personal.scales</td>\n",
       "      <td>vitek</td>\n",
       "      <td>12.48</td>\n",
       "      <td>1.515916e+18</td>\n",
       "    </tr>\n",
       "    <tr>\n",
       "      <th>2633520</th>\n",
       "      <td>2020-11-21 10:10:30 UTC</td>\n",
       "      <td>2388440981134693944</td>\n",
       "      <td>1515966223509127566</td>\n",
       "      <td>2.268105e+18</td>\n",
       "      <td>appliances.kitchen.blender</td>\n",
       "      <td>redmond</td>\n",
       "      <td>53.22</td>\n",
       "      <td>1.515916e+18</td>\n",
       "    </tr>\n",
       "  </tbody>\n",
       "</table>\n",
       "<p>2020793 rows × 8 columns</p>\n",
       "</div>"
      ],
      "text/plain": [
       "                      event_time             order_id           product_id  \\\n",
       "0        2020-04-24 11:50:39 UTC  2294359932054536986  1515966223509089906   \n",
       "2        2020-04-24 14:37:43 UTC  2294444024058086220  2273948319057183658   \n",
       "5        2020-04-26 08:45:57 UTC  2295716521449619559  1515966223509261697   \n",
       "6        2020-04-26 09:33:47 UTC  2295740594749702229  1515966223509104892   \n",
       "10       2020-04-26 14:55:26 UTC  2295902490203259134  2273948311742316796   \n",
       "...                          ...                  ...                  ...   \n",
       "2633515  2020-11-21 10:08:54 UTC  2388440981134693941  1515966223509088622   \n",
       "2633516  2020-11-21 10:10:01 UTC  2388440981134693942  1515966223526602848   \n",
       "2633517  2020-11-21 10:10:13 UTC  2388440981134693943  1515966223509089282   \n",
       "2633518  2020-11-21 10:10:30 UTC  2388440981134693944  1515966223509089917   \n",
       "2633520  2020-11-21 10:10:30 UTC  2388440981134693944  1515966223509127566   \n",
       "\n",
       "          category_id                     category_code    brand    price  \\\n",
       "0        2.268105e+18                electronics.tablet  samsung   162.01   \n",
       "2        2.268105e+18       electronics.audio.headphone   huawei    77.52   \n",
       "5        2.268105e+18           furniture.kitchen.table  maestro    39.33   \n",
       "6        2.268105e+18            electronics.smartphone    apple  1387.01   \n",
       "10       2.268105e+18  appliances.kitchen.refrigerators       lg   462.94   \n",
       "...               ...                               ...      ...      ...   \n",
       "2633515  2.374499e+18              electronics.video.tv       lg   370.35   \n",
       "2633516  2.268105e+18            electronics.smartphone     oppo   138.87   \n",
       "2633517  2.268105e+18            electronics.smartphone    apple   418.96   \n",
       "2633518  2.268105e+18        appliances.personal.scales    vitek    12.48   \n",
       "2633520  2.268105e+18        appliances.kitchen.blender  redmond    53.22   \n",
       "\n",
       "              user_id  \n",
       "0        1.515916e+18  \n",
       "2        1.515916e+18  \n",
       "5        1.515916e+18  \n",
       "6        1.515916e+18  \n",
       "10       1.515916e+18  \n",
       "...               ...  \n",
       "2633515  1.515916e+18  \n",
       "2633516  1.515916e+18  \n",
       "2633517  1.515916e+18  \n",
       "2633518  1.515916e+18  \n",
       "2633520  1.515916e+18  \n",
       "\n",
       "[2020793 rows x 8 columns]"
      ]
     },
     "execution_count": 14,
     "metadata": {},
     "output_type": "execute_result"
    }
   ],
   "source": [
    "df"
   ]
  },
  {
   "cell_type": "code",
   "execution_count": 2,
   "id": "1b31c677",
   "metadata": {},
   "outputs": [],
   "source": [
    "#change the format of event time (from object to datetime)\n",
    "df['event_time'] = df['event_time'].apply(pd.to_datetime)"
   ]
  },
  {
   "cell_type": "code",
   "execution_count": null,
   "id": "6b5a44b9",
   "metadata": {},
   "outputs": [],
   "source": [
    "#add a new column - month\n",
    "df['month'] = df.event_time.values.astype('datetime64[M]')"
   ]
  },
  {
   "cell_type": "markdown",
   "id": "50ba042c",
   "metadata": {},
   "source": [
    "#### 1. Customer Spending Behaviour"
   ]
  },
  {
   "cell_type": "markdown",
   "id": "8825fe23",
   "metadata": {},
   "source": [
    "#### Customer spending by month"
   ]
  },
  {
   "cell_type": "code",
   "execution_count": 44,
   "id": "b1af720d",
   "metadata": {},
   "outputs": [
    {
     "data": {
      "text/plain": [
       "month\n",
       "1970-01-01     1891573.78\n",
       "2020-01-01    22814885.51\n",
       "2020-02-01    27259957.66\n",
       "2020-03-01    32916325.60\n",
       "2020-04-01     7055787.34\n",
       "2020-05-01    25585079.28\n",
       "2020-06-01    39894470.83\n",
       "2020-07-01    24002478.05\n",
       "2020-08-01    48561251.33\n",
       "2020-09-01    44297786.22\n",
       "2020-10-01    17761368.06\n",
       "2020-11-01    10830955.44\n",
       "Name: price, dtype: float64"
      ]
     },
     "execution_count": 44,
     "metadata": {},
     "output_type": "execute_result"
    }
   ],
   "source": [
    "price_month = df.groupby(\"month\")[\"price\"].sum()\n",
    "price_month"
   ]
  },
  {
   "cell_type": "code",
   "execution_count": 45,
   "id": "3ee684d6",
   "metadata": {},
   "outputs": [
    {
     "data": {
      "text/html": [
       "<div>\n",
       "<style scoped>\n",
       "    .dataframe tbody tr th:only-of-type {\n",
       "        vertical-align: middle;\n",
       "    }\n",
       "\n",
       "    .dataframe tbody tr th {\n",
       "        vertical-align: top;\n",
       "    }\n",
       "\n",
       "    .dataframe thead th {\n",
       "        text-align: right;\n",
       "    }\n",
       "</style>\n",
       "<table border=\"1\" class=\"dataframe\">\n",
       "  <thead>\n",
       "    <tr style=\"text-align: right;\">\n",
       "      <th></th>\n",
       "      <th>month</th>\n",
       "      <th>total_spending</th>\n",
       "    </tr>\n",
       "  </thead>\n",
       "  <tbody>\n",
       "    <tr>\n",
       "      <th>0</th>\n",
       "      <td>1970-01-01</td>\n",
       "      <td>1891573.78</td>\n",
       "    </tr>\n",
       "    <tr>\n",
       "      <th>1</th>\n",
       "      <td>2020-01-01</td>\n",
       "      <td>22814885.51</td>\n",
       "    </tr>\n",
       "    <tr>\n",
       "      <th>2</th>\n",
       "      <td>2020-02-01</td>\n",
       "      <td>27259957.66</td>\n",
       "    </tr>\n",
       "    <tr>\n",
       "      <th>3</th>\n",
       "      <td>2020-03-01</td>\n",
       "      <td>32916325.60</td>\n",
       "    </tr>\n",
       "    <tr>\n",
       "      <th>4</th>\n",
       "      <td>2020-04-01</td>\n",
       "      <td>7055787.34</td>\n",
       "    </tr>\n",
       "    <tr>\n",
       "      <th>5</th>\n",
       "      <td>2020-05-01</td>\n",
       "      <td>25585079.28</td>\n",
       "    </tr>\n",
       "    <tr>\n",
       "      <th>6</th>\n",
       "      <td>2020-06-01</td>\n",
       "      <td>39894470.83</td>\n",
       "    </tr>\n",
       "    <tr>\n",
       "      <th>7</th>\n",
       "      <td>2020-07-01</td>\n",
       "      <td>24002478.05</td>\n",
       "    </tr>\n",
       "    <tr>\n",
       "      <th>8</th>\n",
       "      <td>2020-08-01</td>\n",
       "      <td>48561251.33</td>\n",
       "    </tr>\n",
       "    <tr>\n",
       "      <th>9</th>\n",
       "      <td>2020-09-01</td>\n",
       "      <td>44297786.22</td>\n",
       "    </tr>\n",
       "    <tr>\n",
       "      <th>10</th>\n",
       "      <td>2020-10-01</td>\n",
       "      <td>17761368.06</td>\n",
       "    </tr>\n",
       "    <tr>\n",
       "      <th>11</th>\n",
       "      <td>2020-11-01</td>\n",
       "      <td>10830955.44</td>\n",
       "    </tr>\n",
       "  </tbody>\n",
       "</table>\n",
       "</div>"
      ],
      "text/plain": [
       "        month  total_spending\n",
       "0  1970-01-01      1891573.78\n",
       "1  2020-01-01     22814885.51\n",
       "2  2020-02-01     27259957.66\n",
       "3  2020-03-01     32916325.60\n",
       "4  2020-04-01      7055787.34\n",
       "5  2020-05-01     25585079.28\n",
       "6  2020-06-01     39894470.83\n",
       "7  2020-07-01     24002478.05\n",
       "8  2020-08-01     48561251.33\n",
       "9  2020-09-01     44297786.22\n",
       "10 2020-10-01     17761368.06\n",
       "11 2020-11-01     10830955.44"
      ]
     },
     "execution_count": 45,
     "metadata": {},
     "output_type": "execute_result"
    }
   ],
   "source": [
    "#create a dataframe \n",
    "price_month_df = pd.DataFrame({\"month\": list(price_month.index),\n",
    "                    \"total_spending\": list(price_month.values)})\n",
    "price_month_df"
   ]
  },
  {
   "cell_type": "code",
   "execution_count": 46,
   "id": "f41b22de",
   "metadata": {},
   "outputs": [
    {
     "data": {
      "text/html": [
       "<div>\n",
       "<style scoped>\n",
       "    .dataframe tbody tr th:only-of-type {\n",
       "        vertical-align: middle;\n",
       "    }\n",
       "\n",
       "    .dataframe tbody tr th {\n",
       "        vertical-align: top;\n",
       "    }\n",
       "\n",
       "    .dataframe thead th {\n",
       "        text-align: right;\n",
       "    }\n",
       "</style>\n",
       "<table border=\"1\" class=\"dataframe\">\n",
       "  <thead>\n",
       "    <tr style=\"text-align: right;\">\n",
       "      <th></th>\n",
       "      <th>month</th>\n",
       "      <th>total_spending</th>\n",
       "    </tr>\n",
       "  </thead>\n",
       "  <tbody>\n",
       "    <tr>\n",
       "      <th>1</th>\n",
       "      <td>2020-01-01</td>\n",
       "      <td>22814885.51</td>\n",
       "    </tr>\n",
       "    <tr>\n",
       "      <th>2</th>\n",
       "      <td>2020-02-01</td>\n",
       "      <td>27259957.66</td>\n",
       "    </tr>\n",
       "    <tr>\n",
       "      <th>3</th>\n",
       "      <td>2020-03-01</td>\n",
       "      <td>32916325.60</td>\n",
       "    </tr>\n",
       "    <tr>\n",
       "      <th>4</th>\n",
       "      <td>2020-04-01</td>\n",
       "      <td>7055787.34</td>\n",
       "    </tr>\n",
       "    <tr>\n",
       "      <th>5</th>\n",
       "      <td>2020-05-01</td>\n",
       "      <td>25585079.28</td>\n",
       "    </tr>\n",
       "    <tr>\n",
       "      <th>6</th>\n",
       "      <td>2020-06-01</td>\n",
       "      <td>39894470.83</td>\n",
       "    </tr>\n",
       "    <tr>\n",
       "      <th>7</th>\n",
       "      <td>2020-07-01</td>\n",
       "      <td>24002478.05</td>\n",
       "    </tr>\n",
       "    <tr>\n",
       "      <th>8</th>\n",
       "      <td>2020-08-01</td>\n",
       "      <td>48561251.33</td>\n",
       "    </tr>\n",
       "    <tr>\n",
       "      <th>9</th>\n",
       "      <td>2020-09-01</td>\n",
       "      <td>44297786.22</td>\n",
       "    </tr>\n",
       "    <tr>\n",
       "      <th>10</th>\n",
       "      <td>2020-10-01</td>\n",
       "      <td>17761368.06</td>\n",
       "    </tr>\n",
       "    <tr>\n",
       "      <th>11</th>\n",
       "      <td>2020-11-01</td>\n",
       "      <td>10830955.44</td>\n",
       "    </tr>\n",
       "  </tbody>\n",
       "</table>\n",
       "</div>"
      ],
      "text/plain": [
       "        month  total_spending\n",
       "1  2020-01-01     22814885.51\n",
       "2  2020-02-01     27259957.66\n",
       "3  2020-03-01     32916325.60\n",
       "4  2020-04-01      7055787.34\n",
       "5  2020-05-01     25585079.28\n",
       "6  2020-06-01     39894470.83\n",
       "7  2020-07-01     24002478.05\n",
       "8  2020-08-01     48561251.33\n",
       "9  2020-09-01     44297786.22\n",
       "10 2020-10-01     17761368.06\n",
       "11 2020-11-01     10830955.44"
      ]
     },
     "execution_count": 46,
     "metadata": {},
     "output_type": "execute_result"
    }
   ],
   "source": [
    "price_month_df.drop(labels=price_month_df[price_month_df.month == '1970-01-01'].index, axis=0, inplace=True)\n",
    "price_month_df"
   ]
  },
  {
   "cell_type": "code",
   "execution_count": 47,
   "id": "6e74dc56",
   "metadata": {},
   "outputs": [
    {
     "data": {
      "text/plain": [
       "<AxesSubplot:xlabel='month', ylabel='price'>"
      ]
     },
     "execution_count": 47,
     "metadata": {},
     "output_type": "execute_result"
    },
    {
     "data": {
      "image/png": "[encoded data removed]",
      "text/plain": [
       "<Figure size 864x576 with 1 Axes>"
      ]
     },
     "metadata": {
      "needs_background": "light"
     },
     "output_type": "display_data"
    }
   ],
   "source": [
    "#lineplot\n",
    "plt.figure(figsize=(12, 8))\n",
    "sns.lineplot(x = \"month\", y=\"price\", data=df_month_sum)"
   ]
  },
  {
   "cell_type": "code",
   "execution_count": 48,
   "id": "1a244d1b",
   "metadata": {},
   "outputs": [],
   "source": [
    "#Customers spent the most in Aug 2020, more than $45m."
   ]
  },
  {
   "cell_type": "markdown",
   "id": "0b9106ab",
   "metadata": {},
   "source": [
    "#### Number of customers by month"
   ]
  },
  {
   "cell_type": "code",
   "execution_count": 50,
   "id": "297f25e3",
   "metadata": {},
   "outputs": [
    {
     "data": {
      "text/plain": [
       "month\n",
       "1970-01-01      861\n",
       "2020-01-01     9540\n",
       "2020-02-01    12028\n",
       "2020-03-01    12938\n",
       "2020-04-01     9131\n",
       "2020-05-01    31646\n",
       "2020-06-01    30777\n",
       "2020-07-01    62651\n",
       "2020-08-01    84231\n",
       "2020-09-01    55200\n",
       "2020-10-01    76944\n",
       "2020-11-01    48327\n",
       "Name: user_id, dtype: int64"
      ]
     },
     "execution_count": 50,
     "metadata": {},
     "output_type": "execute_result"
    }
   ],
   "source": [
    "customer_month = df.groupby(\"month\")[\"user_id\"].count()\n",
    "customer_month"
   ]
  },
  {
   "cell_type": "code",
   "execution_count": 52,
   "id": "9e6b6b1d",
   "metadata": {},
   "outputs": [
    {
     "data": {
      "text/html": [
       "<div>\n",
       "<style scoped>\n",
       "    .dataframe tbody tr th:only-of-type {\n",
       "        vertical-align: middle;\n",
       "    }\n",
       "\n",
       "    .dataframe tbody tr th {\n",
       "        vertical-align: top;\n",
       "    }\n",
       "\n",
       "    .dataframe thead th {\n",
       "        text-align: right;\n",
       "    }\n",
       "</style>\n",
       "<table border=\"1\" class=\"dataframe\">\n",
       "  <thead>\n",
       "    <tr style=\"text-align: right;\">\n",
       "      <th></th>\n",
       "      <th>month</th>\n",
       "      <th>total_customers</th>\n",
       "    </tr>\n",
       "  </thead>\n",
       "  <tbody>\n",
       "    <tr>\n",
       "      <th>0</th>\n",
       "      <td>1970-01-01</td>\n",
       "      <td>861</td>\n",
       "    </tr>\n",
       "    <tr>\n",
       "      <th>1</th>\n",
       "      <td>2020-01-01</td>\n",
       "      <td>9540</td>\n",
       "    </tr>\n",
       "    <tr>\n",
       "      <th>2</th>\n",
       "      <td>2020-02-01</td>\n",
       "      <td>12028</td>\n",
       "    </tr>\n",
       "    <tr>\n",
       "      <th>3</th>\n",
       "      <td>2020-03-01</td>\n",
       "      <td>12938</td>\n",
       "    </tr>\n",
       "    <tr>\n",
       "      <th>4</th>\n",
       "      <td>2020-04-01</td>\n",
       "      <td>9131</td>\n",
       "    </tr>\n",
       "    <tr>\n",
       "      <th>5</th>\n",
       "      <td>2020-05-01</td>\n",
       "      <td>31646</td>\n",
       "    </tr>\n",
       "    <tr>\n",
       "      <th>6</th>\n",
       "      <td>2020-06-01</td>\n",
       "      <td>30777</td>\n",
       "    </tr>\n",
       "    <tr>\n",
       "      <th>7</th>\n",
       "      <td>2020-07-01</td>\n",
       "      <td>62651</td>\n",
       "    </tr>\n",
       "    <tr>\n",
       "      <th>8</th>\n",
       "      <td>2020-08-01</td>\n",
       "      <td>84231</td>\n",
       "    </tr>\n",
       "    <tr>\n",
       "      <th>9</th>\n",
       "      <td>2020-09-01</td>\n",
       "      <td>55200</td>\n",
       "    </tr>\n",
       "    <tr>\n",
       "      <th>10</th>\n",
       "      <td>2020-10-01</td>\n",
       "      <td>76944</td>\n",
       "    </tr>\n",
       "    <tr>\n",
       "      <th>11</th>\n",
       "      <td>2020-11-01</td>\n",
       "      <td>48327</td>\n",
       "    </tr>\n",
       "  </tbody>\n",
       "</table>\n",
       "</div>"
      ],
      "text/plain": [
       "        month  total_customers\n",
       "0  1970-01-01              861\n",
       "1  2020-01-01             9540\n",
       "2  2020-02-01            12028\n",
       "3  2020-03-01            12938\n",
       "4  2020-04-01             9131\n",
       "5  2020-05-01            31646\n",
       "6  2020-06-01            30777\n",
       "7  2020-07-01            62651\n",
       "8  2020-08-01            84231\n",
       "9  2020-09-01            55200\n",
       "10 2020-10-01            76944\n",
       "11 2020-11-01            48327"
      ]
     },
     "execution_count": 52,
     "metadata": {},
     "output_type": "execute_result"
    }
   ],
   "source": [
    "#create a dataframe \n",
    "customer_month_df = pd.DataFrame({\"month\": list(customer_month.index),\n",
    "                    \"total_customers\": list(customer_month.values)})\n",
    "customer_month_df"
   ]
  },
  {
   "cell_type": "code",
   "execution_count": 53,
   "id": "a10f082a",
   "metadata": {},
   "outputs": [
    {
     "data": {
      "text/html": [
       "<div>\n",
       "<style scoped>\n",
       "    .dataframe tbody tr th:only-of-type {\n",
       "        vertical-align: middle;\n",
       "    }\n",
       "\n",
       "    .dataframe tbody tr th {\n",
       "        vertical-align: top;\n",
       "    }\n",
       "\n",
       "    .dataframe thead th {\n",
       "        text-align: right;\n",
       "    }\n",
       "</style>\n",
       "<table border=\"1\" class=\"dataframe\">\n",
       "  <thead>\n",
       "    <tr style=\"text-align: right;\">\n",
       "      <th></th>\n",
       "      <th>month</th>\n",
       "      <th>total_customers</th>\n",
       "    </tr>\n",
       "  </thead>\n",
       "  <tbody>\n",
       "    <tr>\n",
       "      <th>1</th>\n",
       "      <td>2020-01-01</td>\n",
       "      <td>9540</td>\n",
       "    </tr>\n",
       "    <tr>\n",
       "      <th>2</th>\n",
       "      <td>2020-02-01</td>\n",
       "      <td>12028</td>\n",
       "    </tr>\n",
       "    <tr>\n",
       "      <th>3</th>\n",
       "      <td>2020-03-01</td>\n",
       "      <td>12938</td>\n",
       "    </tr>\n",
       "    <tr>\n",
       "      <th>4</th>\n",
       "      <td>2020-04-01</td>\n",
       "      <td>9131</td>\n",
       "    </tr>\n",
       "    <tr>\n",
       "      <th>5</th>\n",
       "      <td>2020-05-01</td>\n",
       "      <td>31646</td>\n",
       "    </tr>\n",
       "    <tr>\n",
       "      <th>6</th>\n",
       "      <td>2020-06-01</td>\n",
       "      <td>30777</td>\n",
       "    </tr>\n",
       "    <tr>\n",
       "      <th>7</th>\n",
       "      <td>2020-07-01</td>\n",
       "      <td>62651</td>\n",
       "    </tr>\n",
       "    <tr>\n",
       "      <th>8</th>\n",
       "      <td>2020-08-01</td>\n",
       "      <td>84231</td>\n",
       "    </tr>\n",
       "    <tr>\n",
       "      <th>9</th>\n",
       "      <td>2020-09-01</td>\n",
       "      <td>55200</td>\n",
       "    </tr>\n",
       "    <tr>\n",
       "      <th>10</th>\n",
       "      <td>2020-10-01</td>\n",
       "      <td>76944</td>\n",
       "    </tr>\n",
       "    <tr>\n",
       "      <th>11</th>\n",
       "      <td>2020-11-01</td>\n",
       "      <td>48327</td>\n",
       "    </tr>\n",
       "  </tbody>\n",
       "</table>\n",
       "</div>"
      ],
      "text/plain": [
       "        month  total_customers\n",
       "1  2020-01-01             9540\n",
       "2  2020-02-01            12028\n",
       "3  2020-03-01            12938\n",
       "4  2020-04-01             9131\n",
       "5  2020-05-01            31646\n",
       "6  2020-06-01            30777\n",
       "7  2020-07-01            62651\n",
       "8  2020-08-01            84231\n",
       "9  2020-09-01            55200\n",
       "10 2020-10-01            76944\n",
       "11 2020-11-01            48327"
      ]
     },
     "execution_count": 53,
     "metadata": {},
     "output_type": "execute_result"
    }
   ],
   "source": [
    "customer_month_df.drop(labels=customer_month_df[customer_month_df.month == '1970-01-01'].index, axis=0, inplace=True)\n",
    "customer_month_df"
   ]
  },
  {
   "cell_type": "code",
   "execution_count": 55,
   "id": "0803d9f6",
   "metadata": {},
   "outputs": [
    {
     "data": {
      "text/plain": [
       "<AxesSubplot:xlabel='month', ylabel='total_customers'>"
      ]
     },
     "execution_count": 55,
     "metadata": {},
     "output_type": "execute_result"
    },
    {
     "data": {
      "image/png": "[encoded data removed]",
      "text/plain": [
       "<Figure size 864x576 with 1 Axes>"
      ]
     },
     "metadata": {
      "needs_background": "light"
     },
     "output_type": "display_data"
    }
   ],
   "source": [
    "#lineplot\n",
    "plt.figure(figsize=(12, 8))\n",
    "sns.lineplot(x = \"month\", y=\"total_customers\", data=customer_month_df)"
   ]
  },
  {
   "cell_type": "code",
   "execution_count": 56,
   "id": "8e686017",
   "metadata": {},
   "outputs": [],
   "source": [
    "#We can see that from figure 1 & 2, both spending and number of customers peaked at Aug 2020.\n",
    "#It is good to note that in July, total spending has dropped and the increasing rate of customers has slowed down. \n",
    "#This suggests that customer's spending on price per unit has been decreased."
   ]
  },
  {
   "cell_type": "markdown",
   "id": "8e54f04e",
   "metadata": {},
   "source": [
    "#### 2. Brand performance"
   ]
  },
  {
   "cell_type": "markdown",
   "id": "1d76c568",
   "metadata": {},
   "source": [
    "#### Top 10 brands"
   ]
  },
  {
   "cell_type": "code",
   "execution_count": 88,
   "id": "5ba3250e",
   "metadata": {},
   "outputs": [
    {
     "data": {
      "text/html": [
       "<div>\n",
       "<style scoped>\n",
       "    .dataframe tbody tr th:only-of-type {\n",
       "        vertical-align: middle;\n",
       "    }\n",
       "\n",
       "    .dataframe tbody tr th {\n",
       "        vertical-align: top;\n",
       "    }\n",
       "\n",
       "    .dataframe thead th {\n",
       "        text-align: right;\n",
       "    }\n",
       "</style>\n",
       "<table border=\"1\" class=\"dataframe\">\n",
       "  <thead>\n",
       "    <tr style=\"text-align: right;\">\n",
       "      <th></th>\n",
       "      <th>brand</th>\n",
       "      <th>price</th>\n",
       "      <th>million_USD</th>\n",
       "    </tr>\n",
       "  </thead>\n",
       "  <tbody>\n",
       "    <tr>\n",
       "      <th>22571</th>\n",
       "      <td>samsung</td>\n",
       "      <td>89146419.33</td>\n",
       "      <td>89.146419</td>\n",
       "    </tr>\n",
       "    <tr>\n",
       "      <th>22145</th>\n",
       "      <td>apple</td>\n",
       "      <td>47759437.98</td>\n",
       "      <td>47.759438</td>\n",
       "    </tr>\n",
       "    <tr>\n",
       "      <th>22424</th>\n",
       "      <td>lg</td>\n",
       "      <td>25752532.28</td>\n",
       "      <td>25.752532</td>\n",
       "    </tr>\n",
       "    <tr>\n",
       "      <th>22157</th>\n",
       "      <td>asus</td>\n",
       "      <td>10626723.91</td>\n",
       "      <td>10.626724</td>\n",
       "    </tr>\n",
       "    <tr>\n",
       "      <th>22356</th>\n",
       "      <td>huawei</td>\n",
       "      <td>10615116.85</td>\n",
       "      <td>10.615117</td>\n",
       "    </tr>\n",
       "    <tr>\n",
       "      <th>22423</th>\n",
       "      <td>lenovo</td>\n",
       "      <td>10483241.09</td>\n",
       "      <td>10.483241</td>\n",
       "    </tr>\n",
       "    <tr>\n",
       "      <th>22201</th>\n",
       "      <td>bosch</td>\n",
       "      <td>9991694.06</td>\n",
       "      <td>9.991694</td>\n",
       "    </tr>\n",
       "    <tr>\n",
       "      <th>22178</th>\n",
       "      <td>beko</td>\n",
       "      <td>7827359.32</td>\n",
       "      <td>7.827359</td>\n",
       "    </tr>\n",
       "    <tr>\n",
       "      <th>22502</th>\n",
       "      <td>oppo</td>\n",
       "      <td>7318125.71</td>\n",
       "      <td>7.318126</td>\n",
       "    </tr>\n",
       "    <tr>\n",
       "      <th>22164</th>\n",
       "      <td>ava</td>\n",
       "      <td>6524424.01</td>\n",
       "      <td>6.524424</td>\n",
       "    </tr>\n",
       "  </tbody>\n",
       "</table>\n",
       "</div>"
      ],
      "text/plain": [
       "         brand        price  million_USD\n",
       "22571  samsung  89146419.33    89.146419\n",
       "22145    apple  47759437.98    47.759438\n",
       "22424       lg  25752532.28    25.752532\n",
       "22157     asus  10626723.91    10.626724\n",
       "22356   huawei  10615116.85    10.615117\n",
       "22423   lenovo  10483241.09    10.483241\n",
       "22201    bosch   9991694.06     9.991694\n",
       "22178     beko   7827359.32     7.827359\n",
       "22502     oppo   7318125.71     7.318126\n",
       "22164      ava   6524424.01     6.524424"
      ]
     },
     "execution_count": 88,
     "metadata": {},
     "output_type": "execute_result"
    }
   ],
   "source": [
    "#reset index = assign new index\n",
    "best_performing_brands = df.groupby('brand')['price'].sum().reset_index().sort_values('price',ascending=False).head(10)\n",
    "best_performing_brands['million_USD'] = best_performing_brands.price/1000000\n",
    "best_performing_brands"
   ]
  },
  {
   "cell_type": "code",
   "execution_count": 89,
   "id": "509f31ba",
   "metadata": {},
   "outputs": [
    {
     "data": {
      "image/png": "[encoded data removed]",
      "text/plain": [
       "<Figure size 864x576 with 1 Axes>"
      ]
     },
     "metadata": {
      "needs_background": "light"
     },
     "output_type": "display_data"
    }
   ],
   "source": [
    "#Barplot\n",
    "plt.figure(figsize=(12, 8))\n",
    "ax = sns.barplot(x = \"brand\", y = \"million_USD\",data=best_performing_brands, color='blue')\n",
    "ax.bar_label(ax.containers[0]) #add bar label\n",
    "plt.show()"
   ]
  },
  {
   "cell_type": "code",
   "execution_count": 90,
   "id": "709b5a2a",
   "metadata": {},
   "outputs": [],
   "source": [
    "#Samsung was the best-selling brand, which held the largest slice of the electronics market."
   ]
  },
  {
   "cell_type": "markdown",
   "id": "84b1e076",
   "metadata": {},
   "source": [
    "#### Number of customers for each brand"
   ]
  },
  {
   "cell_type": "code",
   "execution_count": 92,
   "id": "4a527a8e",
   "metadata": {},
   "outputs": [
    {
     "data": {
      "text/html": [
       "<div>\n",
       "<style scoped>\n",
       "    .dataframe tbody tr th:only-of-type {\n",
       "        vertical-align: middle;\n",
       "    }\n",
       "\n",
       "    .dataframe tbody tr th {\n",
       "        vertical-align: top;\n",
       "    }\n",
       "\n",
       "    .dataframe thead th {\n",
       "        text-align: right;\n",
       "    }\n",
       "</style>\n",
       "<table border=\"1\" class=\"dataframe\">\n",
       "  <thead>\n",
       "    <tr style=\"text-align: right;\">\n",
       "      <th></th>\n",
       "      <th>brand</th>\n",
       "      <th>user_id</th>\n",
       "    </tr>\n",
       "  </thead>\n",
       "  <tbody>\n",
       "    <tr>\n",
       "      <th>22571</th>\n",
       "      <td>samsung</td>\n",
       "      <td>89879</td>\n",
       "    </tr>\n",
       "    <tr>\n",
       "      <th>22145</th>\n",
       "      <td>apple</td>\n",
       "      <td>34877</td>\n",
       "    </tr>\n",
       "    <tr>\n",
       "      <th>22164</th>\n",
       "      <td>ava</td>\n",
       "      <td>20422</td>\n",
       "    </tr>\n",
       "    <tr>\n",
       "      <th>22424</th>\n",
       "      <td>lg</td>\n",
       "      <td>16329</td>\n",
       "    </tr>\n",
       "    <tr>\n",
       "      <th>22628</th>\n",
       "      <td>tefal</td>\n",
       "      <td>14458</td>\n",
       "    </tr>\n",
       "    <tr>\n",
       "      <th>22686</th>\n",
       "      <td>xiaomi</td>\n",
       "      <td>12017</td>\n",
       "    </tr>\n",
       "    <tr>\n",
       "      <th>22356</th>\n",
       "      <td>huawei</td>\n",
       "      <td>9937</td>\n",
       "    </tr>\n",
       "    <tr>\n",
       "      <th>22201</th>\n",
       "      <td>bosch</td>\n",
       "      <td>9409</td>\n",
       "    </tr>\n",
       "    <tr>\n",
       "      <th>22157</th>\n",
       "      <td>asus</td>\n",
       "      <td>9096</td>\n",
       "    </tr>\n",
       "    <tr>\n",
       "      <th>22524</th>\n",
       "      <td>philips</td>\n",
       "      <td>7981</td>\n",
       "    </tr>\n",
       "    <tr>\n",
       "      <th>22423</th>\n",
       "      <td>lenovo</td>\n",
       "      <td>7886</td>\n",
       "    </tr>\n",
       "    <tr>\n",
       "      <th>22178</th>\n",
       "      <td>beko</td>\n",
       "      <td>7549</td>\n",
       "    </tr>\n",
       "    <tr>\n",
       "      <th>22502</th>\n",
       "      <td>oppo</td>\n",
       "      <td>6957</td>\n",
       "    </tr>\n",
       "    <tr>\n",
       "      <th>22530</th>\n",
       "      <td>polaris</td>\n",
       "      <td>6900</td>\n",
       "    </tr>\n",
       "    <tr>\n",
       "      <th>22355</th>\n",
       "      <td>hp</td>\n",
       "      <td>6376</td>\n",
       "    </tr>\n",
       "  </tbody>\n",
       "</table>\n",
       "</div>"
      ],
      "text/plain": [
       "         brand  user_id\n",
       "22571  samsung    89879\n",
       "22145    apple    34877\n",
       "22164      ava    20422\n",
       "22424       lg    16329\n",
       "22628    tefal    14458\n",
       "22686   xiaomi    12017\n",
       "22356   huawei     9937\n",
       "22201    bosch     9409\n",
       "22157     asus     9096\n",
       "22524  philips     7981\n",
       "22423   lenovo     7886\n",
       "22178     beko     7549\n",
       "22502     oppo     6957\n",
       "22530  polaris     6900\n",
       "22355       hp     6376"
      ]
     },
     "execution_count": 92,
     "metadata": {},
     "output_type": "execute_result"
    }
   ],
   "source": [
    "#reset index = assign new index\n",
    "best_sold_brands = df.groupby('brand')['user_id'].count().reset_index().sort_values('user_id',ascending=False).head(15)\n",
    "best_sold_brands"
   ]
  },
  {
   "cell_type": "code",
   "execution_count": 96,
   "id": "dc0247aa",
   "metadata": {},
   "outputs": [
    {
     "data": {
      "image/png": "[encoded data removed]",
      "text/plain": [
       "<Figure size 864x576 with 1 Axes>"
      ]
     },
     "metadata": {
      "needs_background": "light"
     },
     "output_type": "display_data"
    }
   ],
   "source": [
    "#Barplot\n",
    "plt.figure(figsize=(12, 8))\n",
    "ax = sns.barplot(x = \"brand\", y = \"user_id\",data=best_sold_brands, color='blue')\n",
    "plt.ylabel(\"number_of_customers\", fontsize=16)\n",
    "ax.bar_label(ax.containers[0]) #add bar label\n",
    "plt.show()"
   ]
  },
  {
   "cell_type": "code",
   "execution_count": 97,
   "id": "f4ffdc84",
   "metadata": {},
   "outputs": [],
   "source": [
    "#Samsung has the highest number of customers from April 2020 to November 2020. "
   ]
  },
  {
   "cell_type": "markdown",
   "id": "d9533b02",
   "metadata": {},
   "source": [
    "#### 3. New vs. Existing Customers"
   ]
  },
  {
   "cell_type": "code",
   "execution_count": 163,
   "id": "e2befdc7",
   "metadata": {},
   "outputs": [
    {
     "name": "stderr",
     "output_type": "stream",
     "text": [
      "/var/folders/wx/1t7r70td2c98x42h3cl0zcxr0000gn/T/ipykernel_1209/3381162850.py:3: FutureWarning: Value based partial slicing on non-monotonic DatetimeIndexes with non-existing keys is deprecated and will raise a KeyError in a future Version.\n",
      "  df_user=df_[\"2020-04\":\"2020-11\"].groupby('user_id')\n"
     ]
    },
    {
     "data": {
      "text/html": [
       "<div>\n",
       "<style scoped>\n",
       "    .dataframe tbody tr th:only-of-type {\n",
       "        vertical-align: middle;\n",
       "    }\n",
       "\n",
       "    .dataframe tbody tr th {\n",
       "        vertical-align: top;\n",
       "    }\n",
       "\n",
       "    .dataframe thead th {\n",
       "        text-align: right;\n",
       "    }\n",
       "</style>\n",
       "<table border=\"1\" class=\"dataframe\">\n",
       "  <thead>\n",
       "    <tr style=\"text-align: right;\">\n",
       "      <th></th>\n",
       "      <th>min</th>\n",
       "      <th>max</th>\n",
       "    </tr>\n",
       "    <tr>\n",
       "      <th>user_id</th>\n",
       "      <th></th>\n",
       "      <th></th>\n",
       "    </tr>\n",
       "  </thead>\n",
       "  <tbody>\n",
       "    <tr>\n",
       "      <th>1.515916e+18</th>\n",
       "      <td>2020-07-09 06:35:18+00:00</td>\n",
       "      <td>2020-07-09 06:35:18+00:00</td>\n",
       "    </tr>\n",
       "    <tr>\n",
       "      <th>1.515916e+18</th>\n",
       "      <td>2020-09-22 15:11:15+00:00</td>\n",
       "      <td>2020-10-28 05:53:47+00:00</td>\n",
       "    </tr>\n",
       "    <tr>\n",
       "      <th>1.515916e+18</th>\n",
       "      <td>2020-10-23 03:51:26+00:00</td>\n",
       "      <td>2020-11-16 15:49:50+00:00</td>\n",
       "    </tr>\n",
       "    <tr>\n",
       "      <th>1.515916e+18</th>\n",
       "      <td>2020-06-10 21:37:30+00:00</td>\n",
       "      <td>2020-10-20 09:54:43+00:00</td>\n",
       "    </tr>\n",
       "    <tr>\n",
       "      <th>1.515916e+18</th>\n",
       "      <td>2020-05-16 16:09:13+00:00</td>\n",
       "      <td>2020-07-14 13:04:12+00:00</td>\n",
       "    </tr>\n",
       "  </tbody>\n",
       "</table>\n",
       "</div>"
      ],
      "text/plain": [
       "                                   min                       max\n",
       "user_id                                                         \n",
       "1.515916e+18 2020-07-09 06:35:18+00:00 2020-07-09 06:35:18+00:00\n",
       "1.515916e+18 2020-09-22 15:11:15+00:00 2020-10-28 05:53:47+00:00\n",
       "1.515916e+18 2020-10-23 03:51:26+00:00 2020-11-16 15:49:50+00:00\n",
       "1.515916e+18 2020-06-10 21:37:30+00:00 2020-10-20 09:54:43+00:00\n",
       "1.515916e+18 2020-05-16 16:09:13+00:00 2020-07-14 13:04:12+00:00"
      ]
     },
     "execution_count": 163,
     "metadata": {},
     "output_type": "execute_result"
    }
   ],
   "source": [
    "df_=df.copy()\n",
    "df_.index=df_['event_time'] #make event_time as index\n",
    "df_user=df_[\"2020-04\":\"2020-11\"].groupby('user_id') #select certain index\n",
    "user_life = df_user.event_time.agg(['min','max']) #find min and max event time for each user id\n",
    "user_life.head()"
   ]
  },
  {
   "cell_type": "code",
   "execution_count": 167,
   "id": "a429f7e9",
   "metadata": {},
   "outputs": [
    {
     "data": {
      "text/plain": [
       "False    47811\n",
       "True     43102\n",
       "dtype: int64"
      ]
     },
     "execution_count": 167,
     "metadata": {},
     "output_type": "execute_result"
    }
   ],
   "source": [
    "(user_life['max'] == user_life['min']).value_counts() "
   ]
  },
  {
   "cell_type": "code",
   "execution_count": null,
   "id": "a038e323",
   "metadata": {},
   "outputs": [],
   "source": [
    "#Around half of the customers are existing customers."
   ]
  }
 ],
 "metadata": {
  "kernelspec": {
   "display_name": "Python 3 (ipykernel)",
   "language": "python",
   "name": "python3"
  },
  "language_info": {
   "codemirror_mode": {
    "name": "ipython",
    "version": 3
   },
   "file_extension": ".py",
   "mimetype": "text/x-python",
   "name": "python",
   "nbconvert_exporter": "python",
   "pygments_lexer": "ipython3",
   "version": "3.9.12"
  }
 },
 "nbformat": 4,
 "nbformat_minor": 5
}
